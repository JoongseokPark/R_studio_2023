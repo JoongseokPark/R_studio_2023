{
  "nbformat": 4,
  "nbformat_minor": 0,
  "metadata": {
    "colab": {
      "private_outputs": true,
      "provenance": [],
      "authorship_tag": "ABX9TyO1Dxu5Tx/y4rmk3flhQaur",
      "include_colab_link": true
    },
    "kernelspec": {
      "name": "ir",
      "display_name": "R"
    },
    "language_info": {
      "name": "R"
    }
  },
  "cells": [
    {
      "cell_type": "markdown",
      "metadata": {
        "id": "view-in-github",
        "colab_type": "text"
      },
      "source": [
        "<a href=\"https://colab.research.google.com/github/JoongseokPark/R_studio_2023/blob/main/R_programming_5%EC%A3%BC%EC%B0%A8.ipynb\" target=\"_parent\"><img src=\"https://colab.research.google.com/assets/colab-badge.svg\" alt=\"Open In Colab\"/></a>"
      ]
    },
    {
      "cell_type": "markdown",
      "source": [
        "#데이터 가공하기기"
      ],
      "metadata": {
        "id": "TUWTfNUXU5he"
      }
    },
    {
      "cell_type": "code",
      "execution_count": null,
      "metadata": {
        "id": "kQTYAtRnUMeM"
      },
      "outputs": [],
      "source": [
        "install.packages(\"dplyr\") #데이터 가공에 쓰는 패키지지\n",
        "library(dplyr)"
      ]
    },
    {
      "cell_type": "code",
      "source": [
        "data(mtcars)"
      ],
      "metadata": {
        "id": "uMbn64VVUdbL"
      },
      "execution_count": null,
      "outputs": []
    },
    {
      "cell_type": "code",
      "source": [
        "head(mtcars)\n",
        "str(mtcars)"
      ],
      "metadata": {
        "id": "U3ne4NMDUf0l"
      },
      "execution_count": null,
      "outputs": []
    },
    {
      "cell_type": "markdown",
      "source": [
        "# 조건에 맞는 행만 출력하기\n",
        "- filter(데이터 , 조건)"
      ],
      "metadata": {
        "id": "zKS2OZARWCHY"
      }
    },
    {
      "cell_type": "code",
      "source": [
        "#조건에 맞는 행 출력\n",
        "filter(mtcars,hp>200)"
      ],
      "metadata": {
        "id": "rlp6SO8fVBnR"
      },
      "execution_count": null,
      "outputs": []
    },
    {
      "cell_type": "code",
      "source": [
        "filter(mtcars, mpg>=20 | hp>=300)\n",
        "#여러 조건을 가지는 것도 가능"
      ],
      "metadata": {
        "id": "STet9lDkVUPy"
      },
      "execution_count": null,
      "outputs": []
    },
    {
      "cell_type": "code",
      "source": [
        "filter(mtcars, cyl == 6)\n",
        "#실린더가 6개인 차만 출력력"
      ],
      "metadata": {
        "id": "HmRSDlI3VruO"
      },
      "execution_count": null,
      "outputs": []
    },
    {
      "cell_type": "markdown",
      "source": [
        "#조건에 따라 정렬\n",
        "- arrange(데이터 , 조건1 , ~ )"
      ],
      "metadata": {
        "id": "o0C27rm_WN4V"
      }
    },
    {
      "cell_type": "code",
      "source": [
        "arrange(mtcars, -hp, mpg)\n",
        "#mpg는 hp에 대해 정리된 뒤 고려한다다"
      ],
      "metadata": {
        "id": "3TrcDiTMWaV1"
      },
      "execution_count": null,
      "outputs": []
    },
    {
      "cell_type": "markdown",
      "source": [
        "# 조건에 맞는 열 데이터 추출\n",
        "- select(데이터 , 변수1, 변수2)"
      ],
      "metadata": {
        "id": "_yf55MffW_5u"
      }
    },
    {
      "cell_type": "code",
      "source": [
        "select(mtcars, mpg, hp, gear)"
      ],
      "metadata": {
        "id": "tEmx26vtW-_t"
      },
      "execution_count": null,
      "outputs": []
    },
    {
      "cell_type": "markdown",
      "source": [
        "# 데이터 행렬 기준 삭제\n",
        "- 데이터 <- 데이터[행,열]\n",
        "- 행이나 열이 여럿일 경우 c()로 묶는다"
      ],
      "metadata": {
        "id": "leSF9bnZXTRF"
      }
    },
    {
      "cell_type": "code",
      "source": [
        "mtcars <- mtcars[,-c(10,11)] \n",
        "mtcars"
      ],
      "metadata": {
        "id": "JtCcX3HDXcgE"
      },
      "execution_count": null,
      "outputs": []
    },
    {
      "cell_type": "markdown",
      "source": [
        "# 데이터 추가\n",
        "- mutate(데이터 , 추가열명 = 넣을 데이터)"
      ],
      "metadata": {
        "id": "uhdbR-N0X6xg"
      }
    },
    {
      "cell_type": "code",
      "source": [
        "mutate(mtcars, rank = rank(mpg))\n",
        "#rank는 해당 변수의 순위를 보여준다\n",
        "#동일 등수가 여럿일 경우 .5를 붙인다"
      ],
      "metadata": {
        "id": "Fx3AHwx8X5ht"
      },
      "execution_count": null,
      "outputs": []
    },
    {
      "cell_type": "code",
      "source": [
        "mutate(mtcars, mpg_grade = ifelse(mpg>25,\"A\",ifelse(mpg>20,\"B\",\"C\")))\n",
        "#ifelse(참 실행 , 거짓 실행)"
      ],
      "metadata": {
        "id": "KkrQt6FYY7AF"
      },
      "execution_count": null,
      "outputs": []
    },
    {
      "cell_type": "code",
      "source": [
        "install.packages(\"psycho\")\n",
        "library(psycho)"
      ],
      "metadata": {
        "id": "4nMSFELMaO79"
      },
      "execution_count": null,
      "outputs": []
    },
    {
      "cell_type": "code",
      "source": [
        "summary(mtcars)"
      ],
      "metadata": {
        "id": "MI1WWO9waplB"
      },
      "execution_count": null,
      "outputs": []
    },
    {
      "cell_type": "code",
      "source": [
        "summarise(mtcars, sd(mpg))\n",
        "#summarise는 데이터의 특정 값만 보여준다다"
      ],
      "metadata": {
        "id": "35zqTDsta4M8"
      },
      "execution_count": null,
      "outputs": []
    },
    {
      "cell_type": "code",
      "source": [
        "group_by(mtcars, cyl)"
      ],
      "metadata": {
        "id": "H3tYPBNEbBas"
      },
      "execution_count": null,
      "outputs": []
    },
    {
      "cell_type": "code",
      "source": [
        "sample_n(mtcars, 10)\n",
        "#전체 데이터에서 10개의 표본 추출"
      ],
      "metadata": {
        "id": "-NZHY2zXbdD8"
      },
      "execution_count": null,
      "outputs": []
    },
    {
      "cell_type": "code",
      "source": [
        "sample_frac(mtcars, 0.1)\n",
        "#전체 데이터에서 0.1 즉 10%의 표본 추출출"
      ],
      "metadata": {
        "id": "Vrc-A24AcAgK"
      },
      "execution_count": null,
      "outputs": []
    },
    {
      "cell_type": "markdown",
      "source": [
        "과제\n",
        "- 5-2 예제 따라해보기기\n",
        "- 124p~142p"
      ],
      "metadata": {
        "id": "pewRqFXkcbmc"
      }
    }
  ]
}