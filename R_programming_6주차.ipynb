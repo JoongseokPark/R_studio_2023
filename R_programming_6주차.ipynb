{
  "nbformat": 4,
  "nbformat_minor": 0,
  "metadata": {
    "colab": {
      "private_outputs": true,
      "provenance": [],
      "authorship_tag": "ABX9TyNvQiTfAmHQjf5Z3RzxklXc",
      "include_colab_link": true
    },
    "kernelspec": {
      "name": "ir",
      "display_name": "R"
    },
    "language_info": {
      "name": "R"
    }
  },
  "cells": [
    {
      "cell_type": "markdown",
      "metadata": {
        "id": "view-in-github",
        "colab_type": "text"
      },
      "source": [
        "<a href=\"https://colab.research.google.com/github/JoongseokPark/R_studio_2023/blob/main/R_programming_6%EC%A3%BC%EC%B0%A8.ipynb\" target=\"_parent\"><img src=\"https://colab.research.google.com/assets/colab-badge.svg\" alt=\"Open In Colab\"/></a>"
      ]
    },
    {
      "cell_type": "markdown",
      "source": [
        "# 파이프 연산자\n",
        "- %>%\n",
        "- 함수 여럿을 쓸 때 괄호를 단순하게 바꾸고, 가독성을 높일 때 사용용"
      ],
      "metadata": {
        "id": "-g_4pZ0NC46F"
      }
    },
    {
      "cell_type": "code",
      "source": [
        "data(mtcars)\n",
        "mtcars"
      ],
      "metadata": {
        "id": "5M2FPPHDC4rF"
      },
      "execution_count": null,
      "outputs": []
    },
    {
      "cell_type": "code",
      "source": [
        "# str은 데이터 안의 변수 타입을 알려준다.\n",
        "str(mtcars)"
      ],
      "metadata": {
        "id": "SpXdUuEKDDAM"
      },
      "execution_count": null,
      "outputs": []
    },
    {
      "cell_type": "code",
      "source": [
        "install.packages(\"dplyr\")\n",
        "library(dplyr)\n",
        "#group_by 포함함"
      ],
      "metadata": {
        "id": "N7sYDbGvDvNf"
      },
      "execution_count": null,
      "outputs": []
    },
    {
      "cell_type": "code",
      "source": [
        "install.packages(\"psych\")\n",
        "library(psych)"
      ],
      "metadata": {
        "id": "Eyopkt-2GUnF"
      },
      "execution_count": null,
      "outputs": []
    },
    {
      "cell_type": "code",
      "source": [
        "arrange(group_by(mtcars,cyl))"
      ],
      "metadata": {
        "id": "K8hmHX-ODhOx"
      },
      "execution_count": null,
      "outputs": []
    },
    {
      "cell_type": "code",
      "source": [
        "# %>% 파이프 연산자\n",
        "# group_by %>% arrange ()\n",
        "\n",
        "mtcars %>% filter(cyl == 4) %>% summarise(n())"
      ],
      "metadata": {
        "id": "eesEf2_qFKZB"
      },
      "execution_count": null,
      "outputs": []
    },
    {
      "cell_type": "markdown",
      "source": [
        "**arrange()**\n",
        "\n",
        "- 변수를 괄호 안의 변수의 순위에 따라 내림차순 정렬\n",
        "- ( desc() ) 를 사용하면 오름차순으로 정렬"
      ],
      "metadata": {
        "id": "6fRonIhbHkVk"
      }
    },
    {
      "cell_type": "markdown",
      "source": [
        "**mutate()**\n",
        "\n",
        "- (데이터 프레임, 새 변수명 = 넣을 데이터)\n",
        "- 데이터 프레임에 지정한 변수를 추가한다"
      ],
      "metadata": {
        "id": "P8Ly9b1RH4g0"
      }
    },
    {
      "cell_type": "code",
      "source": [
        "mtcars %>% mutate(rank_mpg = rank(-mpg)) %>% arrange(desc(-rank_mpg))"
      ],
      "metadata": {
        "id": "oE0oy4cVGkI7"
      },
      "execution_count": null,
      "outputs": []
    }
  ]
}