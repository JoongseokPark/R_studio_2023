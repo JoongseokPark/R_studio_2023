{
  "nbformat": 4,
  "nbformat_minor": 0,
  "metadata": {
    "colab": {
      "private_outputs": true,
      "provenance": [],
      "authorship_tag": "ABX9TyNYTnLFq2cyB36qtsqJ48Ub",
      "include_colab_link": true
    },
    "kernelspec": {
      "name": "ir",
      "display_name": "R"
    },
    "language_info": {
      "name": "R"
    }
  },
  "cells": [
    {
      "cell_type": "markdown",
      "metadata": {
        "id": "view-in-github",
        "colab_type": "text"
      },
      "source": [
        "<a href=\"https://colab.research.google.com/github/JoongseokPark/R_studio_2023/blob/main/R_programming_6%EC%A3%BC%EC%B0%A8.ipynb\" target=\"_parent\"><img src=\"https://colab.research.google.com/assets/colab-badge.svg\" alt=\"Open In Colab\"/></a>"
      ]
    },
    {
      "cell_type": "markdown",
      "source": [
        "# 파이프 연산자\n",
        "- %>%\n",
        "- 함수 여럿을 쓸 때 괄호를 단순하게 바꾸고, 가독성을 높일 때 사용용"
      ],
      "metadata": {
        "id": "-g_4pZ0NC46F"
      }
    },
    {
      "cell_type": "code",
      "source": [
        "data(mtcars)\n",
        "mtcars"
      ],
      "metadata": {
        "id": "5M2FPPHDC4rF"
      },
      "execution_count": null,
      "outputs": []
    },
    {
      "cell_type": "code",
      "source": [
        "# str은 데이터 안의 변수 타입을 알려준다.\n",
        "str(mtcars)"
      ],
      "metadata": {
        "id": "SpXdUuEKDDAM"
      },
      "execution_count": null,
      "outputs": []
    },
    {
      "cell_type": "code",
      "source": [
        "install.packages(\"dplyr\")\n",
        "library(dplyr)\n",
        "#group_by 포함함"
      ],
      "metadata": {
        "id": "N7sYDbGvDvNf"
      },
      "execution_count": null,
      "outputs": []
    },
    {
      "cell_type": "code",
      "source": [
        "install.packages(\"psych\")\n",
        "library(psych)"
      ],
      "metadata": {
        "id": "Eyopkt-2GUnF"
      },
      "execution_count": null,
      "outputs": []
    },
    {
      "cell_type": "code",
      "source": [
        "arrange(group_by(mtcars,cyl))"
      ],
      "metadata": {
        "id": "K8hmHX-ODhOx"
      },
      "execution_count": null,
      "outputs": []
    },
    {
      "cell_type": "code",
      "source": [
        "# %>% 파이프 연산자\n",
        "# group_by %>% arrange ()\n",
        "\n",
        "mtcars %>% filter(cyl == 4) %>% summarise(n())"
      ],
      "metadata": {
        "id": "eesEf2_qFKZB"
      },
      "execution_count": null,
      "outputs": []
    },
    {
      "cell_type": "markdown",
      "source": [
        "**arrange()**\n",
        "\n",
        "- 변수를 괄호 안의 변수의 순위에 따라 내림차순 정렬\n",
        "- ( desc() ) 를 사용하면 오름차순으로 정렬"
      ],
      "metadata": {
        "id": "6fRonIhbHkVk"
      }
    },
    {
      "cell_type": "markdown",
      "source": [
        "**mutate()**\n",
        "\n",
        "- (데이터 프레임, 새 변수명 = 넣을 데이터)\n",
        "- 데이터 프레임에 지정한 변수를 추가한다"
      ],
      "metadata": {
        "id": "P8Ly9b1RH4g0"
      }
    },
    {
      "cell_type": "code",
      "source": [
        "mtcars %>% mutate(rank_mpg = rank(-mpg)) %>% arrange(desc(-rank_mpg))"
      ],
      "metadata": {
        "id": "oE0oy4cVGkI7"
      },
      "execution_count": null,
      "outputs": []
    },
    {
      "cell_type": "markdown",
      "source": [
        "**연습문제**\n",
        "- 차들의 순위 매기기\n",
        "1. mpg, hp, qsec\n",
        "2. 세 변수의 순위로 arrange()\n",
        "3. 파이프 연산자 사용용"
      ],
      "metadata": {
        "id": "qTa0fLgKI2rk"
      }
    },
    {
      "cell_type": "code",
      "source": [
        "mtcars %>% mutate(good_car = rank(rank(-mpg) + rank(-hp) + rank(qsec))) %>% arrange(desc(-good_car))"
      ],
      "metadata": {
        "id": "IlbW6wiXI0Tt"
      },
      "execution_count": null,
      "outputs": []
    },
    {
      "cell_type": "code",
      "source": [
        "print(rank(mtcars$mpg))\n",
        "print(rank(mtcars$hp))\n",
        "print(rank(mtcars$qsec))"
      ],
      "metadata": {
        "id": "LkOZTbuYJvsy"
      },
      "execution_count": null,
      "outputs": []
    },
    {
      "cell_type": "code",
      "source": [
        "install.packages(\"readxl\")\n",
        "library(readxl)"
      ],
      "metadata": {
        "id": "u28h5F0TPIBq"
      },
      "execution_count": null,
      "outputs": []
    },
    {
      "cell_type": "code",
      "source": [
        "m_history = read_excel(\"/content/sample_data/Sample2_m_history.xlsx\")\n",
        "f_history = read_excel(\"/content/sample_data/Sample3_f_history.xlsx\")\n",
        "y20_history = read_excel(\"/content/sample_data/Sample5_y20_history.xlsx\")\n",
        "y21_history = read_excel(\"/content/sample_data/Sample4_y21_history.xlsx\")"
      ],
      "metadata": {
        "id": "UrgbJr8VO61i"
      },
      "execution_count": null,
      "outputs": []
    },
    {
      "cell_type": "code",
      "source": [
        "m_history\n",
        "f_history"
      ],
      "metadata": {
        "id": "Zxd37r0bQUZ7"
      },
      "execution_count": null,
      "outputs": []
    },
    {
      "cell_type": "code",
      "source": [
        "# bind_row 세로가 길어짐\n",
        "\n",
        "bind_rows(m_history, f_history)"
      ],
      "metadata": {
        "id": "tjkr_kv8NiD7"
      },
      "execution_count": null,
      "outputs": []
    },
    {
      "cell_type": "code",
      "source": [
        "#left_join = 괄호 왼쪽의 데이터를 중심으로 결합\n",
        "# 왼쪽에 있으나 오른쪽에 없다 => 데이터가 NA로 표현\n",
        "# 오른쪽에 있으나 왼쪽에 없다 => 데이터 행 없음\n",
        "\n",
        "left_join(y20_history, y21_history)\n",
        "right_join(y20_history, y21_history)"
      ],
      "metadata": {
        "id": "aCZUC3L_PnEy"
      },
      "execution_count": null,
      "outputs": []
    },
    {
      "cell_type": "code",
      "source": [
        "#inner_join = 교집합만 결합\n",
        "\n",
        "inner_join(y20_history, y21_history)"
      ],
      "metadata": {
        "id": "o-HmmpH8PpVm"
      },
      "execution_count": null,
      "outputs": []
    },
    {
      "cell_type": "code",
      "source": [
        "#full_join = 합집합으로 결합\n",
        "\n",
        "full_join(y20_history, y21_history, by = \"ID\") #by ID는 기준"
      ],
      "metadata": {
        "id": "uGG8CBqAP8vw"
      },
      "execution_count": null,
      "outputs": []
    },
    {
      "cell_type": "code",
      "source": [
        "full_join(y20_history, y21_history,by = \"ID\") %>% arrange(desc(-ID))"
      ],
      "metadata": {
        "id": "sbwLn1d2Rprh"
      },
      "execution_count": null,
      "outputs": []
    },
    {
      "cell_type": "code",
      "source": [
        "install.packages(\"reshape2\")\n",
        "library(reshape2)"
      ],
      "metadata": {
        "id": "BvfpmAGgSCCC"
      },
      "execution_count": null,
      "outputs": []
    },
    {
      "cell_type": "markdown",
      "source": [
        "**reshape2 함수**\n",
        "\n",
        "- melt() = 행과 열 전치(교환)\n",
        "- dcast( 행~열 ) = 분리\n",
        "- acast( 행~열 ) = 분리"
      ],
      "metadata": {
        "id": "9T12wFbCSVp1"
      }
    },
    {
      "cell_type": "code",
      "source": [
        "name <- c(\"주현\", \"슬기\", \"예리\")\n",
        "Kor <- c(90,95,85)\n",
        "Eng <- c(100,95,85)\n",
        "Math <- c(80,90,100) \n",
        "grade <- data.frame(name,Kor,Eng,Math)\n",
        "grade"
      ],
      "metadata": {
        "id": "SGZejA_oSkqy"
      },
      "execution_count": null,
      "outputs": []
    },
    {
      "cell_type": "code",
      "source": [
        "m <- melt(grade)\n",
        "m"
      ],
      "metadata": {
        "id": "2CO5FqHwTC_d"
      },
      "execution_count": null,
      "outputs": []
    },
    {
      "cell_type": "code",
      "source": [
        "k <- melt(grade, if.vars = \"name\", measure.vars = c(\"Kor\", \"Eng\"), value.name = \"score\")\n",
        "k"
      ],
      "metadata": {
        "id": "ySbrdYDXT2SI"
      },
      "execution_count": null,
      "outputs": []
    },
    {
      "cell_type": "code",
      "source": [
        "data(airquality)\n",
        "airquality\n",
        "\n",
        "air <- data(airquality)"
      ],
      "metadata": {
        "id": "86aH350zU1la"
      },
      "execution_count": null,
      "outputs": []
    },
    {
      "cell_type": "code",
      "source": [
        "melt(airquality)"
      ],
      "metadata": {
        "id": "NDsAG-RjVoiv"
      },
      "execution_count": null,
      "outputs": []
    },
    {
      "cell_type": "code",
      "source": [
        "# Month와 Day는 행으로 Ozone 열으로 \n",
        "k <- melt(airquality, if.vars = c(\"Month\",\"Day\"), measure.vars = \"Ozone\")\n",
        "k"
      ],
      "metadata": {
        "id": "2xa2eEsHV3FR"
      },
      "execution_count": null,
      "outputs": []
    },
    {
      "cell_type": "code",
      "source": [
        "#세로가 긴 데이터 => 가로가 긴 데이터\n",
        "\n",
        "air_dcast <- dcast(k, Month+ Day ~ variable)\n",
        "air_dcast"
      ],
      "metadata": {
        "id": "qxZn6-bdWYcQ"
      },
      "execution_count": null,
      "outputs": []
    }
  ]
}