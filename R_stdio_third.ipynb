{
  "nbformat": 4,
  "nbformat_minor": 0,
  "metadata": {
    "colab": {
      "private_outputs": true,
      "provenance": [],
      "authorship_tag": "ABX9TyOcqSGfuQ9OexrC8uu5nIZd",
      "include_colab_link": true
    },
    "kernelspec": {
      "name": "ir",
      "display_name": "R"
    },
    "language_info": {
      "name": "R"
    }
  },
  "cells": [
    {
      "cell_type": "markdown",
      "metadata": {
        "id": "view-in-github",
        "colab_type": "text"
      },
      "source": [
        "<a href=\"https://colab.research.google.com/github/JoongseokPark/R_studio_2023/blob/main/R_stdio_third.ipynb\" target=\"_parent\"><img src=\"https://colab.research.google.com/assets/colab-badge.svg\" alt=\"Open In Colab\"/></a>"
      ]
    },
    {
      "cell_type": "markdown",
      "source": [
        "#반복문\n",
        "\n",
        "형식\n",
        ">for (조건){ 내용 }"
      ],
      "metadata": {
        "id": "KyXaQAG15fEe"
      }
    },
    {
      "cell_type": "code",
      "execution_count": null,
      "metadata": {
        "id": "V89AT_GQ5MIb"
      },
      "outputs": [],
      "source": [
        "for(i in 3:4){ for(j in 1:9){print(i*j)}}"
      ]
    },
    {
      "cell_type": "code",
      "source": [
        "#1~100 3의 배수 출력\n",
        "\n",
        "for(i in 1:100){\n",
        "  if(i%%3 == 0){\n",
        "    print(i)\n",
        "  }\n",
        "}"
      ],
      "metadata": {
        "id": "EzE0zqAb6L0X"
      },
      "execution_count": null,
      "outputs": []
    },
    {
      "cell_type": "markdown",
      "source": [
        "여러 원소를 print 하나로 출력할 때는 print 함수 안에 paste 함수를 추가로 사용한다\n",
        ">print(**paste**(\"내용\",\"내용2\",변수))"
      ],
      "metadata": {
        "id": "LnqdbTAS7bQW"
      }
    },
    {
      "cell_type": "code",
      "source": [
        "#R에서 print로 여러 원소 출력\n",
        "\n",
        "for(i in 1:9){\n",
        "  print(paste(\"2 X\",i,\"=\",i*2))\n",
        "}"
      ],
      "metadata": {
        "id": "uSqy0we36bvM"
      },
      "execution_count": null,
      "outputs": []
    },
    {
      "cell_type": "code",
      "source": [
        "sum <- 0\n",
        "for(i in 1:10){\n",
        "  print(paste(sum,\"+\",i,\"=\",sum+i))\n",
        "  sum <- sum + i\n",
        "}\n",
        "print(sum)"
      ],
      "metadata": {
        "id": "KtktlLxP8CVc"
      },
      "execution_count": null,
      "outputs": []
    },
    {
      "cell_type": "markdown",
      "source": [
        "#사용자 입력\n",
        "> 변수 <- readline()"
      ],
      "metadata": {
        "id": "9xAjBVkr-Kef"
      }
    },
    {
      "cell_type": "code",
      "source": [
        "num <- readline(prompt=\"Enter number: \")\n",
        "fact <- 1\n",
        "for(i in 1:num){\n",
        "  print(paste(fact,\"X\",i,\"=\",fact*i))\n",
        "  fact <- fact * i\n",
        "}"
      ],
      "metadata": {
        "id": "85-Wfp478tvf"
      },
      "execution_count": null,
      "outputs": []
    },
    {
      "cell_type": "markdown",
      "source": [
        "#줄넘김\n",
        "> **cat**(\"\\n\")"
      ],
      "metadata": {
        "id": "wJX1KAHb_aRI"
      }
    },
    {
      "cell_type": "code",
      "source": [
        "for(i in 6:9){\n",
        "  for(j in 1:9){\n",
        "    print(paste(i,\"X\",j,\"=\",i*j))\n",
        "  }\n",
        "  cat(\"\\n\")\n",
        "}"
      ],
      "metadata": {
        "id": "MieouKEh-a1g"
      },
      "execution_count": null,
      "outputs": []
    },
    {
      "cell_type": "markdown",
      "source": [
        "#사용자 함수\n",
        ">함수명 <- **function**(매개변수,~){ 함수 내용 return(반환값)}"
      ],
      "metadata": {
        "id": "RC4UZD-J__gX"
      }
    },
    {
      "cell_type": "code",
      "source": [
        "total_sum <- function(){\n",
        "  sum <- 0\n",
        "  for(i in 1:5){\n",
        "    num <- readline(prompt=\"Enter number to add: \")\n",
        "    num <- strtoi(num)\n",
        "    print(paste(sum,\"+\",num,\"=\",sum+num))\n",
        "    sum <- sum + num\n",
        "  }\n",
        "}"
      ],
      "metadata": {
        "id": "nOnMENOw_n_n"
      },
      "execution_count": null,
      "outputs": []
    },
    {
      "cell_type": "code",
      "source": [
        "total_sum()"
      ],
      "metadata": {
        "id": "tnnjfEyvBUqi"
      },
      "execution_count": null,
      "outputs": []
    },
    {
      "cell_type": "code",
      "source": [
        "FAC <- function(num){\n",
        "fact <- 1\n",
        "for(i in 1:num){\n",
        "  print(paste(fact,\"X\",i,\"=\",fact*i))\n",
        "  fact <- fact * i\n",
        "}\n",
        "}"
      ],
      "metadata": {
        "id": "VifkmUlICvCR"
      },
      "execution_count": null,
      "outputs": []
    },
    {
      "cell_type": "code",
      "source": [
        "num <- readline(prompt=\"Enter number: \")\n",
        "FAC(num)"
      ],
      "metadata": {
        "id": "lzbJ2vm7DF9w"
      },
      "execution_count": null,
      "outputs": []
    },
    {
      "cell_type": "markdown",
      "source": [
        "기능 함수 만들기\n",
        "- 총합\n",
        "- 평균\n",
        "- 순차곱\n",
        "- 원하는 배수 찾기(X<100)\n",
        "- 짝 & 홀 판단"
      ],
      "metadata": {
        "id": "cVP-MhC8DXeA"
      }
    },
    {
      "cell_type": "code",
      "source": [
        "#총합\n",
        "Add_up <- function(){\n",
        "\n",
        "num <- readline(prompt=\"Enter number: \")\n",
        "sum <- 0\n",
        "\n",
        "for(i in 1:num){\n",
        "  print(paste(sum,\"+\",i,\"=\",sum+i))\n",
        "  sum <- sum + i\n",
        "}\n",
        "\n",
        "return(sum)\n",
        "}"
      ],
      "metadata": {
        "id": "lMMdXF3mDpQX"
      },
      "execution_count": null,
      "outputs": []
    },
    {
      "cell_type": "code",
      "source": [
        "Add_up()"
      ],
      "metadata": {
        "id": "yeyuAgZ2EICb"
      },
      "execution_count": null,
      "outputs": []
    },
    {
      "cell_type": "code",
      "source": [
        "#평균\n",
        "Mean <- function(){\n",
        "\n",
        "num <- readline(prompt=\"Enter number: \")\n",
        "num <- strtoi(num)\n",
        "mean <- 0\n",
        "\n",
        "for(i in 1:num){\n",
        "  mean <- mean + i\n",
        "}\n",
        "mean <- mean/num\n",
        "return(mean)\n",
        "}"
      ],
      "metadata": {
        "id": "7T32lf54EOhw"
      },
      "execution_count": null,
      "outputs": []
    },
    {
      "cell_type": "code",
      "source": [
        "Mean()"
      ],
      "metadata": {
        "id": "o-jQh-E0EtxX"
      },
      "execution_count": null,
      "outputs": []
    },
    {
      "cell_type": "code",
      "source": [
        "#순차곱\n",
        "FAC <- function(num){\n",
        "fact <- 1\n",
        "for(i in 1:num){\n",
        "  print(paste(fact,\"X\",i,\"=\",fact*i))\n",
        "  fact <- fact * i\n",
        "}\n",
        "}"
      ],
      "metadata": {
        "id": "YlJ1utGQFJ6D"
      },
      "execution_count": null,
      "outputs": []
    },
    {
      "cell_type": "code",
      "source": [
        "num <- readline(prompt=\"Enter number: \")\n",
        "FAC(num)"
      ],
      "metadata": {
        "id": "HPcOVHuwFRTI"
      },
      "execution_count": null,
      "outputs": []
    },
    {
      "cell_type": "code",
      "source": [
        "#원하는 배수 찾기\n",
        "Finding <- function(num){\n",
        "  for(i in 1:100){\n",
        "    if(i%%num == 0){\n",
        "      print(paste(num,\"->\",i))\n",
        "    }\n",
        "  }\n",
        "}"
      ],
      "metadata": {
        "id": "zW3_6VMaFTfS"
      },
      "execution_count": null,
      "outputs": []
    },
    {
      "cell_type": "code",
      "source": [
        "Finding(5)"
      ],
      "metadata": {
        "id": "yq72NQzIFanT"
      },
      "execution_count": null,
      "outputs": []
    },
    {
      "cell_type": "code",
      "source": [
        "#짝 & 홀 판단\n",
        "MeanAdd <- function(num){\n",
        "  if(num%%2 == 0){\n",
        "    print(paste(num,\"= 짝수입니다\"))\n",
        "  }else{print(paste(num,\"= 홀수입니다\"))}  \n",
        "}"
      ],
      "metadata": {
        "id": "51Qer24KFuyp"
      },
      "execution_count": null,
      "outputs": []
    },
    {
      "cell_type": "code",
      "source": [
        "MeanAdd(1244356)"
      ],
      "metadata": {
        "id": "7dme1gUzGTtO"
      },
      "execution_count": null,
      "outputs": []
    },
    {
      "cell_type": "code",
      "source": [
        "min(100,4,37)"
      ],
      "metadata": {
        "id": "BRY2dsHnGaP1"
      },
      "execution_count": null,
      "outputs": []
    },
    {
      "cell_type": "markdown",
      "source": [
        "#내장 함수\n",
        "- apply = matrix에서 행렬에 대해 반복해주는 기능\n",
        "> 2X3 행렬, Mat에서 apply(Mat,1,sum) 사용 시 Mat의 가로줄의 총합을 반환한다.\n",
        "- sum = 일정 변수의 총합\n",
        "- mean = 평균\n",
        "- min, max, median = 최소값, 최대값, 중앙값\n",
        "- range, IQR = 범위\n",
        "- Var = 분산\n",
        "- Sd = 표준편차\n",
        "- rank(x), rank(-x)\n",
        "- length = 길이\n",
        "- str() = 데이터 간략 정리\n",
        "- summary() = 데이터 간략 정리\n",
        "- head() = 데이터 전체 출력\n",
        "- hit, skewness, kurtosis = 왜도, 첨도"
      ],
      "metadata": {
        "id": "Ydbwm1aoKJ67"
      }
    },
    {
      "cell_type": "code",
      "source": [
        "install.packages(\"fBasics\")\n",
        "library(fBasics)\n",
        "data(mtcars)"
      ],
      "metadata": {
        "id": "uTA6ZVyVJeSy"
      },
      "execution_count": null,
      "outputs": []
    },
    {
      "cell_type": "code",
      "source": [
        "Mat <- matrix(1:6,2,3)\n",
        "print(Mat)\n",
        "\n",
        "apply(Mat,1,sum) # 1+3+5 = 9, 2+4+6 = 12\n",
        "apply(Mat,2,sum) # 1+2 = 3, 3+4 = 7, ~"
      ],
      "metadata": {
        "id": "tmWpGawaKqy_"
      },
      "execution_count": null,
      "outputs": []
    },
    {
      "cell_type": "code",
      "source": [
        "iris #붓꽃 데이터"
      ],
      "metadata": {
        "id": "VA809thEMnM-"
      },
      "execution_count": null,
      "outputs": []
    },
    {
      "cell_type": "code",
      "source": [
        "apply(iris[,1:4],2,sum)\n",
        "apply(iris[,1:4],2,mean)"
      ],
      "metadata": {
        "id": "hpiA9hW5NIQf"
      },
      "execution_count": null,
      "outputs": []
    },
    {
      "cell_type": "code",
      "source": [
        "head(mtcars) #차량 데이터\n",
        "# mpg 33.9 = 14.3 kmpl"
      ],
      "metadata": {
        "id": "3tMquzJfOPvF"
      },
      "execution_count": null,
      "outputs": []
    },
    {
      "cell_type": "code",
      "source": [
        "summary(mtcars)"
      ],
      "metadata": {
        "id": "Rn5g9kG-O3yj"
      },
      "execution_count": null,
      "outputs": []
    },
    {
      "cell_type": "code",
      "source": [
        "mpg <- mtcars$mpg\n",
        "mpg\n",
        "length(mpg)\n",
        "sum(mpg)\n",
        "Mpg <- matrix(mpg,8,4)\n",
        "Mpg"
      ],
      "metadata": {
        "id": "Ujzo_3_kPWCV"
      },
      "execution_count": null,
      "outputs": []
    },
    {
      "cell_type": "code",
      "source": [
        "apply(mtcars,2,sum)\n",
        "apply(mtcars,2,mean)\n",
        "apply(mtcars,2,min)\n",
        "apply(mtcars,2,max)\n",
        "apply(mtcars,2,median)\n",
        "apply(mtcars,2,range)"
      ],
      "metadata": {
        "id": "7R8fg66KQCel"
      },
      "execution_count": null,
      "outputs": []
    },
    {
      "cell_type": "code",
      "source": [
        "LIst <- c(1,5,3,4,6,8,5,3,2,7,9,13)\n",
        "rank(LIst)"
      ],
      "metadata": {
        "id": "ujb5eXBPTJpX"
      },
      "execution_count": null,
      "outputs": []
    }
  ]
}