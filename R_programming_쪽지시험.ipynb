{
  "nbformat": 4,
  "nbformat_minor": 0,
  "metadata": {
    "colab": {
      "private_outputs": true,
      "provenance": [],
      "authorship_tag": "ABX9TyPFcQ2Ph410Th6rnVkTRzza",
      "include_colab_link": true
    },
    "kernelspec": {
      "name": "ir",
      "display_name": "R"
    },
    "language_info": {
      "name": "R"
    }
  },
  "cells": [
    {
      "cell_type": "markdown",
      "metadata": {
        "id": "view-in-github",
        "colab_type": "text"
      },
      "source": [
        "<a href=\"https://colab.research.google.com/github/JoongseokPark/R_studio_2023/blob/main/R_programming_%EC%AA%BD%EC%A7%80%EC%8B%9C%ED%97%98.ipynb\" target=\"_parent\"><img src=\"https://colab.research.google.com/assets/colab-badge.svg\" alt=\"Open In Colab\"/></a>"
      ]
    },
    {
      "cell_type": "markdown",
      "source": [
        "#99p - 2-2 3번 문제"
      ],
      "metadata": {
        "id": "aFgWae8Z9f1s"
      }
    },
    {
      "cell_type": "code",
      "execution_count": null,
      "metadata": {
        "id": "Yi3HQYAr9Xia"
      },
      "outputs": [],
      "source": [
        "ID <- c(\"1\",\"2\",\"3\",\"4\",\"5\")\n",
        "MID_EXAM <- c(10,25,100,75,30)\n",
        "CLASS <- c(\"1반\",\"2반\",\"3반\",\"4반\",\"5반\")\n",
        "\n",
        "example_test <- data.frame(ID,MID_EXAM,CLASS)\n",
        "example_test"
      ]
    }
  ]
}