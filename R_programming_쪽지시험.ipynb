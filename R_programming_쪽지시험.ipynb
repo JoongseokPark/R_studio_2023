{
  "nbformat": 4,
  "nbformat_minor": 0,
  "metadata": {
    "colab": {
      "private_outputs": true,
      "provenance": [],
      "authorship_tag": "ABX9TyP1D4/JB5leZe6X6MWPEMrj",
      "include_colab_link": true
    },
    "kernelspec": {
      "name": "ir",
      "display_name": "R"
    },
    "language_info": {
      "name": "R"
    }
  },
  "cells": [
    {
      "cell_type": "markdown",
      "metadata": {
        "id": "view-in-github",
        "colab_type": "text"
      },
      "source": [
        "<a href=\"https://colab.research.google.com/github/JoongseokPark/R_studio_2023/blob/main/R_programming_%EC%AA%BD%EC%A7%80%EC%8B%9C%ED%97%98.ipynb\" target=\"_parent\"><img src=\"https://colab.research.google.com/assets/colab-badge.svg\" alt=\"Open In Colab\"/></a>"
      ]
    },
    {
      "cell_type": "markdown",
      "source": [
        "#2-2 3~4번 문제 (99p)"
      ],
      "metadata": {
        "id": "aFgWae8Z9f1s"
      }
    },
    {
      "cell_type": "code",
      "execution_count": null,
      "metadata": {
        "id": "Yi3HQYAr9Xia"
      },
      "outputs": [],
      "source": [
        "ID <- c(\"1\",\"2\",\"3\",\"4\",\"5\")\n",
        "MID_EXAM <- c(10,25,100,75,30)\n",
        "CLASS <- c(\"1반\",\"2반\",\"3반\",\"4반\",\"5반\")\n",
        "\n",
        "example_test <- data.frame(ID,MID_EXAM,CLASS)\n",
        "example_test"
      ]
    },
    {
      "cell_type": "code",
      "source": [
        "mean(example_test$MID_EXAM)"
      ],
      "metadata": {
        "id": "VrxJjoIw-8z8"
      },
      "execution_count": null,
      "outputs": []
    },
    {
      "cell_type": "markdown",
      "source": [
        "#3-1 4~6번 문제 (113p)"
      ],
      "metadata": {
        "id": "VRJJu2Z4_q5r"
      }
    },
    {
      "cell_type": "code",
      "source": [
        "x <- c(1,3,5,7,9)\n",
        "x"
      ],
      "metadata": {
        "id": "dxO-ieah_p7O"
      },
      "execution_count": null,
      "outputs": []
    },
    {
      "cell_type": "code",
      "source": [
        "y <- (\"Hello\")\n",
        "y"
      ],
      "metadata": {
        "id": "J-a5DbHd_5gh"
      },
      "execution_count": null,
      "outputs": []
    },
    {
      "cell_type": "code",
      "source": [
        "num_three_return <- function(num1,num2,num3){\n",
        "  sum <- num1 + num2 + num3\n",
        "  return(sum)\n",
        "}\n",
        "\n",
        "num_three_return(10,20,30)"
      ],
      "metadata": {
        "id": "E7Ffz-HD_-5t"
      },
      "execution_count": null,
      "outputs": []
    },
    {
      "cell_type": "code",
      "source": [
        "library()"
      ],
      "metadata": {
        "id": "j7VyiuqTAm1y"
      },
      "execution_count": null,
      "outputs": []
    },
    {
      "cell_type": "markdown",
      "source": [
        "#3-2 3~4문제 (123p)"
      ],
      "metadata": {
        "id": "0wlgOnwxBClj"
      }
    },
    {
      "cell_type": "code",
      "source": [
        "install.packages(\"reshape2\")"
      ],
      "metadata": {
        "id": "6nC2ViF1BB9U"
      },
      "execution_count": null,
      "outputs": []
    },
    {
      "cell_type": "code",
      "source": [
        "library(reshape2)"
      ],
      "metadata": {
        "id": "ti83w8aABMyS"
      },
      "execution_count": null,
      "outputs": []
    },
    {
      "cell_type": "markdown",
      "source": [
        "#3-3 2번 문제 (143p)"
      ],
      "metadata": {
        "id": "lXzekJEKBx86"
      }
    },
    {
      "cell_type": "code",
      "source": [
        "age <- 40\n",
        "\n",
        "if (age < 13){\n",
        "  print(\"어린이입니다.\")\n",
        "} else if (age < 19){\n",
        "  print(\"청소년입니다.\")\n",
        "} else {\n",
        "  print(\"성인입니다.\")\n",
        "}"
      ],
      "metadata": {
        "id": "F-DXi928B4Uj"
      },
      "execution_count": null,
      "outputs": []
    },
    {
      "cell_type": "markdown",
      "source": [
        "#4-1 3~7문제 (164p)"
      ],
      "metadata": {
        "id": "LtEdZg-9En5K"
      }
    },
    {
      "cell_type": "code",
      "source": [
        "exam <- read.table(\"경로명\",nrows = 1)"
      ],
      "metadata": {
        "id": "TR5y5RODEnXF"
      },
      "execution_count": null,
      "outputs": []
    },
    {
      "cell_type": "code",
      "source": [
        "exam1 <- read.table(\"경로명\",sep = \"|\")"
      ],
      "metadata": {
        "id": "Hh7E3FvkE-Q_"
      },
      "execution_count": null,
      "outputs": []
    },
    {
      "cell_type": "code",
      "source": [
        "install.packages(\"readxl\")\n",
        "library(readxl)"
      ],
      "metadata": {
        "id": "QrwR1jxrFKzx"
      },
      "execution_count": null,
      "outputs": []
    }
  ]
}