{
  "nbformat": 4,
  "nbformat_minor": 0,
  "metadata": {
    "colab": {
      "private_outputs": true,
      "provenance": [],
      "authorship_tag": "ABX9TyMW2vOmBpEAgPgrrsZ7xg0S",
      "include_colab_link": true
    },
    "kernelspec": {
      "name": "ir",
      "display_name": "R"
    },
    "language_info": {
      "name": "R"
    }
  },
  "cells": [
    {
      "cell_type": "markdown",
      "metadata": {
        "id": "view-in-github",
        "colab_type": "text"
      },
      "source": [
        "<a href=\"https://colab.research.google.com/github/JoongseokPark/R_studio_2023/blob/main/R_programming_6th_plus.ipynb\" target=\"_parent\"><img src=\"https://colab.research.google.com/assets/colab-badge.svg\" alt=\"Open In Colab\"/></a>"
      ]
    },
    {
      "cell_type": "code",
      "execution_count": null,
      "metadata": {
        "id": "sAV290QH_JN-"
      },
      "outputs": [],
      "source": [
        "install.packages(\"dplyr\")\n",
        "library(dplyr)\n",
        "install.packages(\"reshape2\")\n",
        "library(reshape2)\n",
        "install.packages(\"readxl\")\n",
        "library(readxl)"
      ]
    },
    {
      "cell_type": "code",
      "source": [
        "m_history = read_excel(\"/content/Sample2_m_history.xlsx\")\n",
        "f_history = read_excel(\"/content/Sample3_f_history.xlsx\")\n",
        "y20_history = read_excel(\"/content/Sample5_y20_history.xlsx\")\n",
        "y21_history = read_excel(\"/content/Sample4_y21_history.xlsx\")"
      ],
      "metadata": {
        "id": "4BRf-fY_AV5B"
      },
      "execution_count": null,
      "outputs": []
    },
    {
      "cell_type": "code",
      "source": [
        "y21_history"
      ],
      "metadata": {
        "id": "d8DiuMEsBXco"
      },
      "execution_count": null,
      "outputs": []
    },
    {
      "cell_type": "code",
      "source": [
        "full_history <- full_join(y20_history, y21_history, by = \"ID\") %>% arrange(desc(-ID))\n",
        "full_history"
      ],
      "metadata": {
        "id": "IWS-Pnx7BjEP"
      },
      "execution_count": null,
      "outputs": []
    },
    {
      "cell_type": "code",
      "source": [
        "filter(full_history, AREA == \"서울\" & Y21_CNT>=10)"
      ],
      "metadata": {
        "id": "bnbby3AbA_ey"
      },
      "execution_count": null,
      "outputs": []
    },
    {
      "cell_type": "code",
      "source": [
        "full_history %>% group_by(AREA) %>% summarise(sum(Y21_CNT),sum(Y20_CNT))"
      ],
      "metadata": {
        "id": "H81SqOOADlsg"
      },
      "execution_count": null,
      "outputs": []
    },
    {
      "cell_type": "code",
      "source": [
        "data(mtcars)\n",
        "head(mtcars)"
      ],
      "metadata": {
        "id": "5is5pLoiEBrX"
      },
      "execution_count": null,
      "outputs": []
    },
    {
      "cell_type": "code",
      "source": [
        "mtcars %>% mutate(Ranking = rank(-rank(mpg))) %>% arrange(Ranking) %>% filter(hp > 100&am == 1)\n",
        "#고려 조건 == 높은 연비 && 자동변속 && 100 마력 이상"
      ],
      "metadata": {
        "id": "i6sBj9hLEJ8C"
      },
      "execution_count": null,
      "outputs": []
    }
  ]
}