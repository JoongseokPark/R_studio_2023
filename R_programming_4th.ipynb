{
  "nbformat": 4,
  "nbformat_minor": 0,
  "metadata": {
    "colab": {
      "private_outputs": true,
      "provenance": [],
      "authorship_tag": "ABX9TyPCSu8PBbXU0S6cKsTiPh3X",
      "include_colab_link": true
    },
    "kernelspec": {
      "name": "ir",
      "display_name": "R"
    },
    "language_info": {
      "name": "R"
    }
  },
  "cells": [
    {
      "cell_type": "markdown",
      "metadata": {
        "id": "view-in-github",
        "colab_type": "text"
      },
      "source": [
        "<a href=\"https://colab.research.google.com/github/JoongseokPark/R_studio_2023/blob/main/R_programming_4th.ipynb\" target=\"_parent\"><img src=\"https://colab.research.google.com/assets/colab-badge.svg\" alt=\"Open In Colab\"/></a>"
      ]
    },
    {
      "cell_type": "markdown",
      "source": [
        "#다양한 종류의 데이터 받아들이기\n",
        "\n",
        "- 텍스트 파일(.txt)\n",
        "- 엑셀 파일 = \"readxl\" 필요\n",
        "- csv 파일\n",
        "- Json 파일 = \"Jsonlite\" 필요\n",
        "- XML 파일 = \"XML\" 필요\n",
        "\n",
        "> \"psych\" 인스톨\n",
        ">> 기본 형태 = read.table(\"경로\")\n"
      ],
      "metadata": {
        "id": "swMRSAnSEY3s"
      }
    },
    {
      "cell_type": "code",
      "execution_count": null,
      "metadata": {
        "id": "SBZ3hr58BgwP"
      },
      "outputs": [],
      "source": [
        "install.packages(\"psych\")\n",
        "library(psych)"
      ]
    },
    {
      "cell_type": "code",
      "source": [
        "text_file <- read.table(\"/content/data_ex.txt\")\n",
        "View(text_file)\n",
        "text_file"
      ],
      "metadata": {
        "id": "lstT-DLbCCDe"
      },
      "execution_count": null,
      "outputs": []
    },
    {
      "cell_type": "code",
      "source": [
        "install.packages(\"readxl\")\n",
        "library(readxl)"
      ],
      "metadata": {
        "id": "X99prHhDC_AO"
      },
      "execution_count": null,
      "outputs": []
    },
    {
      "cell_type": "code",
      "source": [
        "#xlsx_file <- readxl_example(\"/content/data_ex.xlsx\")\n",
        "read_excel(\"/content/data_ex.xlsx\")"
      ],
      "metadata": {
        "id": "KHl86E6-DXqv"
      },
      "execution_count": null,
      "outputs": []
    },
    {
      "cell_type": "code",
      "source": [
        "install.packages(\"XML\")\n",
        "library(XML)"
      ],
      "metadata": {
        "id": "YR2XOuAiDvE5"
      },
      "execution_count": null,
      "outputs": []
    },
    {
      "cell_type": "code",
      "source": [
        "xml_file <- xmlToDataFrame(\"/content/data_ex.xml\")\n",
        "View(xml_file)"
      ],
      "metadata": {
        "id": "AmPOrRy4DzFk"
      },
      "execution_count": null,
      "outputs": []
    },
    {
      "cell_type": "code",
      "source": [
        "install.packages(\"jsonlite\")\n",
        "library(jsonlite)"
      ],
      "metadata": {
        "id": "RWG8e6acElGJ"
      },
      "execution_count": null,
      "outputs": []
    }
  ]
}