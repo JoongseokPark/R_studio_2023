{
  "nbformat": 4,
  "nbformat_minor": 0,
  "metadata": {
    "colab": {
      "private_outputs": true,
      "provenance": [],
      "authorship_tag": "ABX9TyMWH9oD0Jf6aQu5nNdT3WTJ",
      "include_colab_link": true
    },
    "kernelspec": {
      "name": "ir",
      "display_name": "R"
    },
    "language_info": {
      "name": "R"
    }
  },
  "cells": [
    {
      "cell_type": "markdown",
      "metadata": {
        "id": "view-in-github",
        "colab_type": "text"
      },
      "source": [
        "<a href=\"https://colab.research.google.com/github/JoongseokPark/R_studio_2023/blob/main/R_studio_2nd.ipynb\" target=\"_parent\"><img src=\"https://colab.research.google.com/assets/colab-badge.svg\" alt=\"Open In Colab\"/></a>"
      ]
    },
    {
      "cell_type": "markdown",
      "source": [
        "코랩 주소 drive 뒤를 #create=true&language=r 로 바꾸어 R 스튜디오 사용"
      ],
      "metadata": {
        "id": "wA4VkKNEwmYj"
      }
    },
    {
      "cell_type": "markdown",
      "source": [
        "변수명<-c(값) \n",
        "- 변수 대입 함수\n",
        "\n",
        "R에서의 집합 = 벡터\n",
        "- c(\"값\", \"값2\") 형식\n",
        "\n",
        "메트릭스 사용\n",
        "- A = [1,2,3,5,6,7,8,9] (3X3) 시용법\n",
        "- x = [1,2,3,5,6,7,8,9]\n",
        "- A <- matrix(x,nrow=3,ncol=3)"
      ],
      "metadata": {
        "id": "qQxMgcTWwkGT"
      }
    },
    {
      "cell_type": "code",
      "execution_count": null,
      "metadata": {
        "id": "e9D9A1vewhDB"
      },
      "outputs": [],
      "source": [
        "x <- c(1,2,3,4,5,6,7,8,9)\n",
        "A <- matrix(x,nrow=3,ncol=3)\n",
        "A"
      ]
    },
    {
      "cell_type": "code",
      "source": [
        "B <- matrix(x,nrow=3,ncol=3,byrow=1) #byrow로 출력 순서 변경\n",
        "B"
      ],
      "metadata": {
        "id": "UAYou4-LxHg6"
      },
      "execution_count": null,
      "outputs": []
    },
    {
      "cell_type": "code",
      "source": [
        "xx <- c(1,2,3,4,5,6)\n",
        "arr <- array(xx,dim= c(2,2,3)) #R에서는 수의 집합은 항상 c(1,2,4) 형식으로 사용 \n",
        "arr[,,1] #앞의 2,2 크기는 생략 뒤의 주소만 입력"
      ],
      "metadata": {
        "id": "QExZlVcRxR42"
      },
      "execution_count": null,
      "outputs": []
    },
    {
      "cell_type": "code",
      "source": [
        "xx <- c(1,2,3,4,5,6,8,9)\n",
        "arr <- array(xx,dim= c(3,3,3))\n",
        "arr[,,3]"
      ],
      "metadata": {
        "id": "w1UEbFASydhc"
      },
      "execution_count": null,
      "outputs": []
    },
    {
      "cell_type": "code",
      "source": [
        "ID <- c(1,2,3,4,5,6,7,8,9,10)\n",
        "Sex <- c('F','F','M','M','F','M','F','M','F','M')\n",
        "Age <- c(30,23,25,26,56,54,43,37,43,34)\n",
        "Area <- c(\"제주\",\"서울\",\"서울\",\"경기\",\"제주\",\"인천\",\"경기\",\"인천\",\"제주\",\"제주\")\n",
        "\n",
        "f <- data.frame(ID,Sex,Age,Area) #여러개의 벡터를 하나의 프레임으로 묵음 \n",
        "f \n",
        "str(f) #데이터프레임 정보 표시"
      ],
      "metadata": {
        "id": "elH6gnl1y90h"
      },
      "execution_count": null,
      "outputs": []
    },
    {
      "cell_type": "code",
      "source": [
        "f$Sex <- factor(Sex, labels = c(\"F\",\"M\"))\n",
        "f$Area <- factor(Area, labels = c(\"서울\",\"경기\",\"인천\",\"제주\"))\n",
        "str(f)"
      ],
      "metadata": {
        "id": "iWTNnUiu5L1o"
      },
      "execution_count": null,
      "outputs": []
    },
    {
      "cell_type": "code",
      "source": [
        "f$Age\n",
        "str(Age) #데이터의 형식 정보 전부 출력\n",
        "mode(Age) #데이터의 형식만 출력\n",
        "length(Age) #데이터의 길이 출력"
      ],
      "metadata": {
        "id": "-gPyt8Aw05ie"
      },
      "execution_count": null,
      "outputs": []
    },
    {
      "cell_type": "markdown",
      "source": [
        "R 데이터 유형\n",
        "- numeric = 숫자형\n",
        "- character = 문자형\n",
        "- factor = 범주형(척도,명목형)\n",
        "- logical = 논리형 (TRUE,FALSE)"
      ],
      "metadata": {
        "id": "aah-rxuj1oCB"
      }
    },
    {
      "cell_type": "code",
      "source": [
        "mode(TRUE)\n",
        "mode(FALSE)"
      ],
      "metadata": {
        "id": "hYlmqIPJ2zJ4"
      },
      "execution_count": null,
      "outputs": []
    },
    {
      "cell_type": "code",
      "source": [
        "fruit <- c(\"사과\",\"바나나\",\"체리\",\"사과\",\"바나나\",\"체리\",\"사과\",\"바나나\",\"체리\",\"바나나\")\n",
        "fruit <- factor(fruit,labels = c(\"사과\",\"바나나\",\"체리\"))\n",
        "\n",
        "#Nation <- c(\"한국\",\"일본\",\"미국\",\"독일\",\"폴란드\",\"프랑스\",\"베트남\",\"인도\",\"르완다\",\"러시아\")\n",
        "\n",
        "str(fruit)"
      ],
      "metadata": {
        "id": "wQPyzNCh3jEZ"
      },
      "execution_count": null,
      "outputs": []
    },
    {
      "cell_type": "code",
      "source": [
        "x <- 1:10 #range 역할 = 1부터 10까지의 범위\n",
        "# 1 <= x <= 10 \n",
        "y <- 10:1\n",
        "\n",
        "x\n",
        "y"
      ],
      "metadata": {
        "id": "OjSU1Ix99G6_"
      },
      "execution_count": null,
      "outputs": []
    },
    {
      "cell_type": "code",
      "source": [
        "print(x)\n",
        "print(y)"
      ],
      "metadata": {
        "id": "edLyJ64g9YRw"
      },
      "execution_count": null,
      "outputs": []
    },
    {
      "cell_type": "markdown",
      "source": [
        "조건문\n",
        "- 연산자 = +,-,*,/\n",
        "- %%(나머지), %/%(정수 나누기)\n",
        "- ** , ^ = 제곱수 \n",
        "- ,>, >=, <, <=, ==, !=, ! (조건에 따라 참, 거짓 반환)  \n",
        "- &(교집합), |(합집합)\n",
        ">- 진리집합 = 어떤 조건에 만족하는 집합합"
      ],
      "metadata": {
        "id": "jrUNMJPT9pVR"
      }
    },
    {
      "cell_type": "code",
      "source": [
        "5%%3 #나머지\n",
        "5%/%3 #정수 몫"
      ],
      "metadata": {
        "id": "NMgcPRXH-P_0"
      },
      "execution_count": null,
      "outputs": []
    },
    {
      "cell_type": "code",
      "source": [
        "a <- 10\n",
        "if(a%%2 == 0){\n",
        "  print(\"짝수\")\n",
        "}else{  #else 문은 전 조건의 괄호 뒤에 붙인다다\n",
        "  print(\"홀수\")\n",
        "}"
      ],
      "metadata": {
        "id": "ztx1J-Yg_1J9"
      },
      "execution_count": null,
      "outputs": []
    },
    {
      "cell_type": "code",
      "source": [
        "#1번 \n",
        "a <- 20\n",
        "b <- 15\n",
        "c <- 1\n",
        "\n",
        "if(a<b){\n",
        "  if(b<c){\n",
        "    print(\"가장 큰 수 C\")\n",
        "    biggest <- c\n",
        "  }else{\n",
        "    print(\"가장 큰 수 B\")\n",
        "  }\n",
        "}else{\n",
        "  if(a<c){\n",
        "    print(\"가장 큰 수 C\")\n",
        "  }else{\n",
        "    print(\"가장 큰 수 A\")\n",
        "  }\n",
        "}\n",
        "print(biggest)"
      ],
      "metadata": {
        "id": "Wzla9FT5A7tI"
      },
      "execution_count": null,
      "outputs": []
    },
    {
      "cell_type": "code",
      "source": [
        "#2번 \n",
        "a <- 200\n",
        "b <- 100\n",
        "c <- 1000\n",
        "\n",
        "first <- 0\n",
        "second <- 0\n",
        "third <- 0\n",
        "\n",
        "if(a<b){\n",
        "  if(b<c){\n",
        "    first <- c\n",
        "    second <- b\n",
        "    third <- a\n",
        "  }else{\n",
        "    first <- b\n",
        "    if(a<c){\n",
        "      second <- c\n",
        "      third <- a\n",
        "    }else{\n",
        "      second <- a\n",
        "      third <- c\n",
        "    }\n",
        "  }\n",
        "}else{\n",
        "  if(a<c){\n",
        "    first<-c\n",
        "    second<-a\n",
        "    third<-b\n",
        "  }else{\n",
        "    first<-a\n",
        "    if(c<b){\n",
        "      second <- b\n",
        "      third <- c\n",
        "    }else{\n",
        "      second <- c\n",
        "      third <- b\n",
        "    }\n",
        "  }\n",
        "}\n",
        "List<-c(first,second,third)\n",
        "print(List)"
      ],
      "metadata": {
        "id": "xmgWSVTHFtUe"
      },
      "execution_count": null,
      "outputs": []
    },
    {
      "cell_type": "code",
      "source": [
        "#3번 윤년\n",
        "year <- 2004\n",
        "\n",
        "if((year%%4 == 0 & year%%100 != 0 | year%%400 == 0)){\n",
        "  print(\"윤년입니다\")\n",
        "}else{print(\"윤년이 아닙니다\")}"
      ],
      "metadata": {
        "id": "l4uOJ0thMrAF"
      },
      "execution_count": null,
      "outputs": []
    },
    {
      "cell_type": "markdown",
      "source": [
        "반복문\n",
        "- for(변수 in 범위){내용}\n",
        "- for(i in 1:10){print(i)}"
      ],
      "metadata": {
        "id": "rnplgBwvGVe2"
      }
    },
    {
      "cell_type": "code",
      "source": [
        "#4번\n",
        "for(i in 1:9){\n",
        "  for(j in 1:9){\n",
        "    print(i*j)\n",
        "  }\n",
        "}"
      ],
      "metadata": {
        "id": "wUBvrcF8GUK-"
      },
      "execution_count": null,
      "outputs": []
    },
    {
      "cell_type": "code",
      "source": [
        "#5번\n",
        "sum <- 0\n",
        "for(i in 1:100){\n",
        "  sum <- sum + i\n",
        "}\n",
        "print(sum)"
      ],
      "metadata": {
        "id": "tjBgEbPtIpIy"
      },
      "execution_count": null,
      "outputs": []
    },
    {
      "cell_type": "code",
      "source": [
        "#6번\n",
        "a <- 5\n",
        "sum <- 1\n",
        "for(i in 1:a){\n",
        "  sum <- sum*i \n",
        "}\n",
        "sum"
      ],
      "metadata": {
        "id": "NbMo7WikJk69"
      },
      "execution_count": null,
      "outputs": []
    },
    {
      "cell_type": "code",
      "source": [
        "#7번\n",
        "for(i in 1:100){\n",
        "  if(i%%2 == 0){print(\"짝수입니다\")\n",
        "  }else{print(\"홀수입니다\")}\n",
        "}"
      ],
      "metadata": {
        "id": "d1c6yLnvKIu2"
      },
      "execution_count": null,
      "outputs": []
    },
    {
      "cell_type": "code",
      "source": [
        "#8번\n",
        "for(i in 1:100){\n",
        "  if(i%%5 == 0){print(\"5의 배수\")\n",
        "  }else{print(\"5의 배수가 아님\")}\n",
        "}"
      ],
      "metadata": {
        "id": "VR2_WFHrKk6I"
      },
      "execution_count": null,
      "outputs": []
    },
    {
      "cell_type": "code",
      "source": [
        "#9번\n",
        "for(i in 1:100){\n",
        "  if(i%%2 == 0&i%%3 == 0){print(\"2와3의 공배수입니다\")\n",
        "  }else{print(\"2와3의 공배수가 아닙니다\")}\n",
        "}"
      ],
      "metadata": {
        "id": "rJPzro7KLpb-"
      },
      "execution_count": null,
      "outputs": []
    },
    {
      "cell_type": "code",
      "source": [
        "#10번\n",
        "sum <- 0\n",
        "for(i in 1:100){\n",
        "  sum <- sum + i\n",
        "}\n",
        "print(sum/100)"
      ],
      "metadata": {
        "id": "DH9-UR4bMN7M"
      },
      "execution_count": null,
      "outputs": []
    }
  ]
}