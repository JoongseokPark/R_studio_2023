{
  "nbformat": 4,
  "nbformat_minor": 0,
  "metadata": {
    "colab": {
      "private_outputs": true,
      "provenance": [],
      "authorship_tag": "ABX9TyM0aIcVHeX/kk18WyDgpW88",
      "include_colab_link": true
    },
    "kernelspec": {
      "name": "ir",
      "display_name": "R"
    },
    "language_info": {
      "name": "R"
    }
  },
  "cells": [
    {
      "cell_type": "markdown",
      "metadata": {
        "id": "view-in-github",
        "colab_type": "text"
      },
      "source": [
        "<a href=\"https://colab.research.google.com/github/JoongseokPark/R_studio_2023/blob/main/R_programming_9%EC%A3%BC%EC%B0%A8.ipynb\" target=\"_parent\"><img src=\"https://colab.research.google.com/assets/colab-badge.svg\" alt=\"Open In Colab\"/></a>"
      ]
    },
    {
      "cell_type": "markdown",
      "source": [
        "##데이터 시각화\n",
        "\n",
        "ggplot2, tidyverse"
      ],
      "metadata": {
        "id": "NuEM6qKcGK-g"
      }
    },
    {
      "cell_type": "markdown",
      "source": [
        "ggplot 사용법\n",
        "- ggplot(datasets, aes(x= , y=)) + 기타 옵션"
      ],
      "metadata": {
        "id": "yByAXKFLGh9Q"
      }
    },
    {
      "cell_type": "code",
      "execution_count": null,
      "metadata": {
        "id": "wbe2EJMFGJfP"
      },
      "outputs": [],
      "source": [
        "install.packages(\"ggplot2\")\n",
        "library(ggplot2)"
      ]
    },
    {
      "cell_type": "code",
      "source": [
        "data(airquality)"
      ],
      "metadata": {
        "id": "e7252YYlHJHb"
      },
      "execution_count": null,
      "outputs": []
    },
    {
      "cell_type": "markdown",
      "source": [
        "ggplot\n",
        "- geom_point = 산점도 \n",
        "- option = size(점크기), pch(점모양), color(점색깔)"
      ],
      "metadata": {
        "id": "i8MDEX0UH3aP"
      }
    },
    {
      "cell_type": "code",
      "source": [
        "ggplot(airquality, aes(x=Day,y=Temp)) +\n",
        "  geom_point(size=2,color='red',pch=22)"
      ],
      "metadata": {
        "id": "XWCFU8KcHMCX"
      },
      "execution_count": null,
      "outputs": []
    },
    {
      "cell_type": "markdown",
      "source": [
        "ggplot\n",
        "- geom_text = 그래프 부분들에 수치 표시\n",
        "- hjust = horizental(수평), vjust = vertical(수직)"
      ],
      "metadata": {
        "id": "_Ug2QsClJ6vB"
      }
    },
    {
      "cell_type": "code",
      "source": [
        "ggplot(airquality, aes(x=Day,y=Temp)) +\n",
        "  geom_point(size=2,color='red',pch=22) +\n",
        "  geom_text(aes(label=Temp, hjust=0, vjust=-0.5))"
      ],
      "metadata": {
        "id": "2j84nZ5eJkDA"
      },
      "execution_count": null,
      "outputs": []
    },
    {
      "cell_type": "markdown",
      "source": [
        "ggplot\n",
        "- geom_line = 선 그래프 \n",
        "- lwd = 선 두께, lty = 선 종류 "
      ],
      "metadata": {
        "id": "jLmP2a8KKpYO"
      }
    },
    {
      "cell_type": "code",
      "source": [
        "colors()"
      ],
      "metadata": {
        "id": "1pdX9W3aRFyC"
      },
      "execution_count": null,
      "outputs": []
    },
    {
      "cell_type": "code",
      "source": [
        "ggplot(airquality, aes(x=Day,y=Temp)) +\n",
        "  geom_line(lwd=1.5,color='antiquewhite2',lty=2)"
      ],
      "metadata": {
        "id": "6a3ZdeDCKzwP"
      },
      "execution_count": null,
      "outputs": []
    },
    {
      "cell_type": "markdown",
      "source": [
        "ggplot\n",
        "- geom_bar = 막대 그래프\n",
        "- width = 선 두께 "
      ],
      "metadata": {
        "id": "nmJ7QFF3Lxwv"
      }
    },
    {
      "cell_type": "code",
      "source": [
        "ggplot(airquality, aes(x=Temp)) +\n",
        "  geom_bar(width=0.7,color='pink')"
      ],
      "metadata": {
        "id": "0C5Hs3aaLxdP"
      },
      "execution_count": null,
      "outputs": []
    },
    {
      "cell_type": "markdown",
      "source": [
        "ggplot\n",
        "- geom_histogram() = 히스토그램\n",
        "> 막대그래프와 히스토그그램의 차이 = 막대는 범주의 빈도수, 히스토그램은 구간의 빈도 "
      ],
      "metadata": {
        "id": "ER-TPAMhMsxH"
      }
    },
    {
      "cell_type": "code",
      "source": [
        "ggplot(airquality, aes(Temp)) +\n",
        "  geom_histogram(bins=30)\n",
        "#bins = 자료의 최대값과 최소값의 사이를 나눈 구간의 개수 "
      ],
      "metadata": {
        "id": "7ouZLlZoNGt-"
      },
      "execution_count": null,
      "outputs": []
    },
    {
      "cell_type": "markdown",
      "source": [
        "ggplot\n",
        "- geom_boxplot = 상자그림 "
      ],
      "metadata": {
        "id": "iGBvqhSDNqJ-"
      }
    },
    {
      "cell_type": "code",
      "source": [
        "ggplot(airquality, aes(x=Temp,y=Day,group=Temp)) +\n",
        "  geom_boxplot()"
      ],
      "metadata": {
        "id": "lGZ6HD6ANZWO"
      },
      "execution_count": null,
      "outputs": []
    },
    {
      "cell_type": "code",
      "source": [
        "install.packages(\"dplyr\")\n",
        "library(dplyr)"
      ],
      "metadata": {
        "id": "oIL-ODzBOUTD"
      },
      "execution_count": null,
      "outputs": []
    },
    {
      "cell_type": "markdown",
      "source": [
        "그래프 + 그래프\n",
        "\n",
        "1. ggplot() + geom_line() + geom_point()\n",
        "2. ggplot() + geom_bar() + geom_line()\n",
        "> 매개변수 차이로 실행 안됌 "
      ],
      "metadata": {
        "id": "1J73Kt6RRbkC"
      }
    },
    {
      "cell_type": "code",
      "source": [
        "ggplot(airquality, aes(x=Day,y=Temp)) +\n",
        "  geom_line(color='red')+\n",
        "  geom_point(pch=1)"
      ],
      "metadata": {
        "id": "zbkov09VRoSa"
      },
      "execution_count": null,
      "outputs": []
    },
    {
      "cell_type": "code",
      "source": [
        "ggplot(airquality, aes(x=Temp,y=Day)) +\n",
        "  geom_line(color='red')+\n",
        "  geom_bar(aes(Temp))\n",
        "#오류"
      ],
      "metadata": {
        "id": "Z1Aw7M09SDZ6"
      },
      "execution_count": null,
      "outputs": []
    },
    {
      "cell_type": "code",
      "source": [
        "data(mtcars)\n",
        "#범주형 데이터가 있는 데이터셋"
      ],
      "metadata": {
        "id": "j0E_yzkTSiOq"
      },
      "execution_count": null,
      "outputs": []
    },
    {
      "cell_type": "code",
      "source": [
        "ggplot(mtcars, aes(x=mpg,y=disp)) +\n",
        "  geom_point(color='bisque4',size=2)\n",
        "  #연비와 배기량의 관계 시각화 "
      ],
      "metadata": {
        "id": "HvjYmp3jS1NW"
      },
      "execution_count": null,
      "outputs": []
    },
    {
      "cell_type": "code",
      "source": [
        "##회귀선  lm(x~y, 데이터)\n",
        "model <- lm(mpg~disp, data=mtcars) #Linear regression Model\n",
        "summary(model)\n",
        "\n",
        "'''\n",
        "Residuals = 잔차 => 각 x값의 y값과 y예측값의 차이\n",
        "\n",
        "y = ax + b\n",
        "a = coefficients 계수\n",
        "b = intercept\n",
        "\n",
        "'''"
      ],
      "metadata": {
        "id": "eIirdrInTxHx"
      },
      "execution_count": null,
      "outputs": []
    },
    {
      "cell_type": "code",
      "source": [
        "model$coefficients\n",
        "#안에 y = ax + b에 필요한 내용이 있음 \n",
        "b = round(model$coefficients[1],2)\n",
        "a = round(model$coefficients[2],2)"
      ],
      "metadata": {
        "id": "cGSu4bsNV_EY"
      },
      "execution_count": null,
      "outputs": []
    },
    {
      "cell_type": "code",
      "source": [
        "ggplot(mtcars, aes(y=mpg,x=disp)) +\n",
        "  geom_point(color='bisque4',size=2) +\n",
        "  geom_abline(intercept = b, slope = a,color='red')"
      ],
      "metadata": {
        "id": "EBKORQgwWczu"
      },
      "execution_count": null,
      "outputs": []
    },
    {
      "cell_type": "code",
      "source": [
        "ggplot(mtcars, aes(y=mpg,x=disp),fig.dim = c(20, 15)) +\n",
        "  geom_point(aes(size=hp, color=wt))\n",
        "#네개의 정보를 한 그래프에 표현"
      ],
      "metadata": {
        "id": "HesBfSReX5uB"
      },
      "execution_count": null,
      "outputs": []
    },
    {
      "cell_type": "code",
      "source": [
        "#추세선\n",
        "ggplot(mtcars, aes(y=mpg,x=disp),fig.dim = c(20, 15)) +\n",
        "  geom_point(aes(size=hp, color=wt)) + \n",
        "  stat_smooth(color='gray2',fill='gray')"
      ],
      "metadata": {
        "id": "ovqWehWjZTUA"
      },
      "execution_count": null,
      "outputs": []
    },
    {
      "cell_type": "code",
      "source": [
        "ggplot(mtcars, aes(x= factor(cyl))) +\n",
        "  geom_bar()"
      ],
      "metadata": {
        "id": "Uy7qTqE0arBY"
      },
      "execution_count": null,
      "outputs": []
    },
    {
      "cell_type": "code",
      "source": [
        "m <- mtcars %>% count(cyl)\n",
        "m\n",
        "\n",
        "ggplot(m, aes(x = reorder(cyl, n),y = n)) +\n",
        "  geom_bar(stat = 'identity') \n",
        "# reorder = (a, b) < a를 b의 크기대로 정렬한다 "
      ],
      "metadata": {
        "id": "OCLYav1VbLr3"
      },
      "execution_count": null,
      "outputs": []
    },
    {
      "cell_type": "code",
      "source": [
        "#누적 막대그래프\n",
        "\n",
        "ggplot(mtcars, aes(x= factor(cyl))) + \n",
        "  geom_bar(aes(fill = factor(gear)))"
      ],
      "metadata": {
        "id": "m-KfqdRmd37n"
      },
      "execution_count": null,
      "outputs": []
    },
    {
      "cell_type": "code",
      "source": [
        "#누적 막대그래프 (원형)\n",
        "\n",
        "ggplot(mtcars, aes(x= factor(cyl))) + \n",
        "  geom_bar(aes(fill = factor(gear))) +\n",
        "    coord_polar(theta = 'y') #theta는 원의 중심을 지정 "
      ],
      "metadata": {
        "id": "6gMpcXvleOjP"
      },
      "execution_count": null,
      "outputs": []
    },
    {
      "cell_type": "markdown",
      "source": [
        "과제\n",
        "1. 유인물 채우기\n",
        "2. diamonds 데이터로 ppt "
      ],
      "metadata": {
        "id": "2MRT1AvDeqju"
      }
    },
    {
      "cell_type": "code",
      "source": [
        "data(diamonds)\n",
        "str(diamonds)\n"
      ],
      "metadata": {
        "id": "60BM4gpugMpv"
      },
      "execution_count": null,
      "outputs": []
    },
    {
      "cell_type": "code",
      "source": [
        "mutate(diamonds, price_range = cut(diamonds$price, breaks=c(0,1000,2000,2500,Inf),right = F,labels = c('Low','middleLow','middleHigh','High')))"
      ],
      "metadata": {
        "id": "qpC-G7Omlmeq"
      },
      "execution_count": null,
      "outputs": []
    },
    {
      "cell_type": "code",
      "source": [
        "ggplot(diamonds, aes(x= factor(clarity),y = price)) + \n",
        "  geom_bar(stat=\"identity\",aes(fill = factor(price_range))) +\n",
        "    geom_text(aes(label=price_range, hjust=0, vjust=0.5))"
      ],
      "metadata": {
        "id": "XGBBhY90jvOJ"
      },
      "execution_count": null,
      "outputs": []
    }
  ]
}