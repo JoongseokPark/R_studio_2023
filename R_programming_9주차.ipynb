{
  "nbformat": 4,
  "nbformat_minor": 0,
  "metadata": {
    "colab": {
      "private_outputs": true,
      "provenance": [],
      "authorship_tag": "ABX9TyN+Xwt9ehBUZ+NZIIvG806T",
      "include_colab_link": true
    },
    "kernelspec": {
      "name": "ir",
      "display_name": "R"
    },
    "language_info": {
      "name": "R"
    }
  },
  "cells": [
    {
      "cell_type": "markdown",
      "metadata": {
        "id": "view-in-github",
        "colab_type": "text"
      },
      "source": [
        "<a href=\"https://colab.research.google.com/github/JoongseokPark/R_studio_2023/blob/main/R_programming_9%EC%A3%BC%EC%B0%A8.ipynb\" target=\"_parent\"><img src=\"https://colab.research.google.com/assets/colab-badge.svg\" alt=\"Open In Colab\"/></a>"
      ]
    },
    {
      "cell_type": "markdown",
      "source": [
        "##데이터 시각화\n",
        "\n",
        "ggplot2, tidyverse"
      ],
      "metadata": {
        "id": "NuEM6qKcGK-g"
      }
    },
    {
      "cell_type": "markdown",
      "source": [
        "ggplot 사용법\n",
        "- ggplot(datasets, aes(x= , y=)) + 기타 옵션"
      ],
      "metadata": {
        "id": "yByAXKFLGh9Q"
      }
    },
    {
      "cell_type": "code",
      "execution_count": null,
      "metadata": {
        "id": "wbe2EJMFGJfP"
      },
      "outputs": [],
      "source": [
        "install.packages(\"ggplot2\")\n",
        "library(ggplot2)"
      ]
    },
    {
      "cell_type": "code",
      "source": [
        "data(airquality)"
      ],
      "metadata": {
        "id": "e7252YYlHJHb"
      },
      "execution_count": null,
      "outputs": []
    },
    {
      "cell_type": "markdown",
      "source": [
        "ggplot\n",
        "- geom_point = 산점도 \n",
        "- option = size(점크기), pch(점모양), color(점색깔)"
      ],
      "metadata": {
        "id": "i8MDEX0UH3aP"
      }
    },
    {
      "cell_type": "code",
      "source": [
        "ggplot(airquality, aes(x=Day,y=Temp)) +\n",
        "  geom_point(size=2,color='red',pch=22)"
      ],
      "metadata": {
        "id": "XWCFU8KcHMCX"
      },
      "execution_count": null,
      "outputs": []
    },
    {
      "cell_type": "markdown",
      "source": [
        "ggplot\n",
        "- geom_text = 그래프 부분들에 수치 표시\n",
        "- hjust = horizental(수평), vjust = vertical(수직)"
      ],
      "metadata": {
        "id": "_Ug2QsClJ6vB"
      }
    },
    {
      "cell_type": "code",
      "source": [
        "ggplot(airquality, aes(x=Day,y=Temp)) +\n",
        "  geom_point(size=2,color='red',pch=22) +\n",
        "  geom_text(aes(label=Temp, hjust=0, vjust=-0.5))"
      ],
      "metadata": {
        "id": "2j84nZ5eJkDA"
      },
      "execution_count": null,
      "outputs": []
    },
    {
      "cell_type": "markdown",
      "source": [
        "ggplot\n",
        "- geom_line = 선 그래프 \n",
        "- lwd = 선 두께, lty = 선 종류 "
      ],
      "metadata": {
        "id": "jLmP2a8KKpYO"
      }
    },
    {
      "cell_type": "code",
      "source": [
        "ggplot(airquality, aes(x=Day,y=Temp)) +\n",
        "  geom_line(lwd=1.5,color='blue',lty=2)"
      ],
      "metadata": {
        "id": "6a3ZdeDCKzwP"
      },
      "execution_count": null,
      "outputs": []
    },
    {
      "cell_type": "markdown",
      "source": [
        "ggplot\n",
        "- geom_bar = 막대 그래프\n",
        "- width = 선 두께 "
      ],
      "metadata": {
        "id": "nmJ7QFF3Lxwv"
      }
    },
    {
      "cell_type": "code",
      "source": [
        "ggplot(airquality, aes(x=Temp)) +\n",
        "  geom_bar(width=0.7,color='pink')"
      ],
      "metadata": {
        "id": "0C5Hs3aaLxdP"
      },
      "execution_count": null,
      "outputs": []
    },
    {
      "cell_type": "markdown",
      "source": [
        "ggplot\n",
        "- geom_histogram() = 히스토그램\n",
        "> 막대그래프와 히스토그그램의 차이 = 막대는 범주의 빈도수, 히스토그램은 구간의 빈도 "
      ],
      "metadata": {
        "id": "ER-TPAMhMsxH"
      }
    },
    {
      "cell_type": "code",
      "source": [
        "ggplot(airquality, aes(Temp)) +\n",
        "  geom_histogram(bins=30)\n",
        "#bins = 자료의 최대값과 최소값의 사이를 나눈 구간의 개수 "
      ],
      "metadata": {
        "id": "7ouZLlZoNGt-"
      },
      "execution_count": null,
      "outputs": []
    },
    {
      "cell_type": "code",
      "source": [],
      "metadata": {
        "id": "lGZ6HD6ANZWO"
      },
      "execution_count": null,
      "outputs": []
    }
  ]
}