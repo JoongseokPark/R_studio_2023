{
  "nbformat": 4,
  "nbformat_minor": 0,
  "metadata": {
    "colab": {
      "private_outputs": true,
      "provenance": [],
      "authorship_tag": "ABX9TyPwx4lJaFnZ1EnFrwmDp0+x",
      "include_colab_link": true
    },
    "kernelspec": {
      "name": "ir",
      "display_name": "R"
    },
    "language_info": {
      "name": "R"
    }
  },
  "cells": [
    {
      "cell_type": "markdown",
      "metadata": {
        "id": "view-in-github",
        "colab_type": "text"
      },
      "source": [
        "<a href=\"https://colab.research.google.com/github/JoongseokPark/R_studio_2023/blob/main/R_programming_7th.ipynb\" target=\"_parent\"><img src=\"https://colab.research.google.com/assets/colab-badge.svg\" alt=\"Open In Colab\"/></a>"
      ]
    },
    {
      "cell_type": "code",
      "source": [
        "install.packages(\"dplyr\")\n",
        "library(dplyr)\n",
        "install.packages(\"reshape2\")\n",
        "library(reshape2)\n",
        "install.packages(\"readxl\")\n",
        "library(readxl)"
      ],
      "metadata": {
        "id": "KEiPn_k0KTH_"
      },
      "execution_count": null,
      "outputs": []
    },
    {
      "cell_type": "markdown",
      "source": [
        "#결측치 관리\n"
      ],
      "metadata": {
        "id": "iblCWp7OKag3"
      }
    },
    {
      "cell_type": "code",
      "source": [
        "air <- data(airquality)\n",
        "head(air)"
      ],
      "metadata": {
        "id": "4IvhurcPKdWP"
      },
      "execution_count": null,
      "outputs": []
    },
    {
      "cell_type": "code",
      "source": [
        "summary(airquality)\n",
        "str(airquality)"
      ],
      "metadata": {
        "id": "fIouSObzKjvH"
      },
      "execution_count": null,
      "outputs": []
    },
    {
      "cell_type": "code",
      "source": [
        "#결측치 찾기 => 결측치는 TRUE \n",
        "is.na(airquality)"
      ],
      "metadata": {
        "id": "cX0S3HBzKybn"
      },
      "execution_count": null,
      "outputs": []
    },
    {
      "cell_type": "code",
      "source": [
        "#결측치 개수 정리\n",
        "table(is.na(airquality))"
      ],
      "metadata": {
        "id": "cuFmhBqzK6TH"
      },
      "execution_count": null,
      "outputs": []
    },
    {
      "cell_type": "code",
      "source": [
        "#결측치 제거 / 결측치가 존재하는 행 삭제제\n",
        "air <- na.omit(airquality)\n",
        "summary(air)\n",
        "str(air)"
      ],
      "metadata": {
        "id": "l3rxApaCLUk0"
      },
      "execution_count": null,
      "outputs": []
    },
    {
      "cell_type": "code",
      "source": [
        "table(is.na(air))"
      ],
      "metadata": {
        "id": "jkpy3RsaLkxv"
      },
      "execution_count": null,
      "outputs": []
    },
    {
      "cell_type": "markdown",
      "source": [
        "결측값의 대체\n",
        "1. 중앙값\n",
        "2. 평균값\n",
        "3. 0\n",
        "4. 최대값"
      ],
      "metadata": {
        "id": "6UyyAiasMp9f"
      }
    },
    {
      "cell_type": "code",
      "source": [
        "#결측치를 0으로 대체 / 평균값이 변화 <= 0이 많아짐\n",
        "airquality[is.na(airquality)] <- 0\n",
        "summary(airquality)"
      ],
      "metadata": {
        "id": "wWJjs_sDMNs8"
      },
      "execution_count": null,
      "outputs": []
    },
    {
      "cell_type": "code",
      "source": [
        "#결측치를 중앙값으로 대체체\n",
        "airquality$Ozone <- ifelse(is.na(airquality$Ozone), median(airquality$Ozone, na.rm = T), airquality$Ozone)\n",
        "table(is.na(airquality$Ozone))\n",
        "print(airquality$Ozone)"
      ],
      "metadata": {
        "id": "UBs-mAz_NFO_"
      },
      "execution_count": null,
      "outputs": []
    },
    {
      "cell_type": "code",
      "source": [
        "airquality$Solar.R <- ifelse(is.na(airquality$Solar.R), median(airquality$Solar.R, na.rm = T), airquality$Solar.R)\n",
        "table(is.na(airquality$Solar.R))\n",
        "print(airquality$Solar.R)"
      ],
      "metadata": {
        "id": "Un1ocGC7N6Gl"
      },
      "execution_count": null,
      "outputs": []
    },
    {
      "cell_type": "code",
      "source": [
        "summary(airquality)"
      ],
      "metadata": {
        "id": "23zLEyHdOLeG"
      },
      "execution_count": null,
      "outputs": []
    },
    {
      "cell_type": "markdown",
      "source": [
        "# 이상치 대체"
      ],
      "metadata": {
        "id": "99ek443mObb2"
      }
    },
    {
      "cell_type": "code",
      "source": [
        "data(airquality)\n",
        "boxplot(airquality)$ stat\n",
        "#stat의 각 행은 박스플롯의 IQR, 25%같은 값"
      ],
      "metadata": {
        "id": "VLefvQZ3OddO"
      },
      "execution_count": null,
      "outputs": []
    },
    {
      "cell_type": "code",
      "source": [
        "#정규화하여 비교하기 / 모든 값을 최대값과 최소값의 차로 나누어줌\n",
        "boxplot(scale(airquality)) $ stat"
      ],
      "metadata": {
        "id": "jEBTNpRWO6yH"
      },
      "execution_count": null,
      "outputs": []
    },
    {
      "cell_type": "code",
      "source": [
        "# 이상치를 결측치로 만들어 계산에 포함하지 않는다\n",
        "# 이상치는 계산에서 빼는것이 정석 \n",
        "data(airquality)\n",
        "airquality$Ozone <- ifelse(airquality$Ozone>=122.0 , NA, airquality$Ozone)\n",
        "airquality$Wind <- ifelse(airquality$Wind>=16.6 , NA, airquality$Wind)\n",
        "\n",
        "boxplot(airquality) $ stat"
      ],
      "metadata": {
        "id": "bQH7BFR3PsWd"
      },
      "execution_count": null,
      "outputs": []
    }
  ]
}